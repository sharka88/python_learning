{
 "cells": [
  {
   "cell_type": "code",
   "execution_count": 1,
   "metadata": {},
   "outputs": [],
   "source": [
    "def draw(self, name, dname, draw_branches=True):\n",
    "        from pydot import Dot, Edge\n",
    "        g = Dot()\n",
    "        g.set_node_defaults(color='lightgray', style='filled', shape='box',\n",
    "                            fontname='Courier', fontsize='10')\n",
    "        for node in sorted(self.nodes, key=lambda x: x.num):\n",
    "            if draw_branches and node.type.is_cond:\n",
    "                g.add_edge(Edge(str(node), str(node.true), color='green'))\n",
    "                g.add_edge(Edge(str(node), str(node.false), color='red'))\n",
    "            else:\n",
    "                for suc in self.sucs(node):\n",
    "                    g.add_edge(Edge(str(node), str(suc), color='blue'))\n",
    "            for except_node in self.catch_edges.get(node, []):\n",
    "                g.add_edge(Edge(str(node), str(except_node),\n",
    "                                color='black', style='dashed'))\n",
    "\n",
    "        g.write_png('%s/%s.png' % (dname, name)) "
   ]
  },
  {
   "cell_type": "code",
   "execution_count": null,
   "metadata": {},
   "outputs": [],
   "source": []
  }
 ],
 "metadata": {
  "kernelspec": {
   "display_name": "Python 3",
   "language": "python",
   "name": "python3"
  },
  "language_info": {
   "codemirror_mode": {
    "name": "ipython",
    "version": 3
   },
   "file_extension": ".py",
   "mimetype": "text/x-python",
   "name": "python",
   "nbconvert_exporter": "python",
   "pygments_lexer": "ipython3",
   "version": "3.6.7"
  }
 },
 "nbformat": 4,
 "nbformat_minor": 2
}
